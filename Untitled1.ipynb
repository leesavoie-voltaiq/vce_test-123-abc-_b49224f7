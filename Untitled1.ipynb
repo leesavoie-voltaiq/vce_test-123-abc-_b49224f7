{
 "cells": [
  {
   "cell_type": "code",
   "execution_count": 1,
   "id": "287c6576-87c3-452f-88f2-49525dc8dae1",
   "metadata": {},
   "outputs": [
    {
     "name": "stdout",
     "output_type": "stream",
     "text": [
      "hello again\n"
     ]
    }
   ],
   "source": [
    "print(\"hello again\")"
   ]
  },
  {
   "cell_type": "code",
   "execution_count": null,
   "id": "15241e63-a246-4a53-9631-d61aded7dcd8",
   "metadata": {},
   "outputs": [],
   "source": []
  }
 ],
 "metadata": {
  "kernelspec": {
   "display_name": "Python 3 (ipykernel)",
   "language": "python",
   "name": "python3"
  },
  "language_info": {
   "codemirror_mode": {
    "name": "ipython",
    "version": 3
   },
   "file_extension": ".py",
   "mimetype": "text/x-python",
   "name": "python",
   "nbconvert_exporter": "python",
   "pygments_lexer": "ipython3",
   "version": "3.9.6"
  }
 },
 "nbformat": 4,
 "nbformat_minor": 5
}
